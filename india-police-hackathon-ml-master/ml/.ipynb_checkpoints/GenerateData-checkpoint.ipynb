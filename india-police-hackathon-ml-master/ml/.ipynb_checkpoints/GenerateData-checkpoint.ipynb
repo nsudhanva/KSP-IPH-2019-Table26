{
 "cells": [
  {
   "cell_type": "code",
   "execution_count": 1,
   "metadata": {},
   "outputs": [],
   "source": [
    "import numpy as np\n",
    "import pandas as pd\n",
    "import matplotlib.pyplot as plt"
   ]
  },
  {
   "cell_type": "code",
   "execution_count": 2,
   "metadata": {},
   "outputs": [],
   "source": [
    "np.random.seed(42)"
   ]
  },
  {
   "cell_type": "code",
   "execution_count": 3,
   "metadata": {},
   "outputs": [],
   "source": [
    "df = pd.DataFrame()"
   ]
  },
  {
   "cell_type": "code",
   "execution_count": 4,
   "metadata": {},
   "outputs": [],
   "source": [
    "total_size=1000"
   ]
  },
  {
   "cell_type": "code",
   "execution_count": 5,
   "metadata": {},
   "outputs": [],
   "source": [
    "df['location_id'] = np.random.randint(low=1, high=5, size=total_size)\n",
    "df['person_id'] = np.random.randint(low=1, high=13, size=total_size)\n",
    "df['type'] = np.random.choice(['family', 'mob', 'rowdy', 'theft', 'fruad', 'murder'], total_size, p=[0.05, 0.2, 0.15, 0.2, 0.2, 0.2])\n",
    "df['distance'] = np.random.randint(low=500, high=5000, size=total_size)\n",
    "df['prev_records'] = np.random.randint(low=1, high=10, size=total_size)\n",
    "df['no_of_people'] = np.random.randint(low=1, high=40, size=total_size)\n",
    "df['no_of_cops'] = np.random.randint(low=1, high=50, size=total_size)\n",
    "df['population'] = np.random.randint(low=1, high=1000, size=total_size)\n",
    "df['beat_minutes'] = np.random.randint(low=10, high=100, size=total_size)\n",
    "df['hr'] = np.random.randint(low=0, high=24, size=total_size)\n",
    "df['min'] = np.random.randint(low=0, high=60, size=total_size)\n",
    "df['date'] = np.random.randint(low=0, high=31, size=total_size)\n",
    "df['threat_lvl'] = np.random.randint(low=1, high=10, size=total_size)"
   ]
  },
  {
   "cell_type": "code",
   "execution_count": 6,
   "metadata": {},
   "outputs": [],
   "source": [
    "df.to_csv('sample_data.csv', index=False)\n",
    "df.to_json('sample_data.json',orient='records')"
   ]
  },
  {
   "cell_type": "code",
   "execution_count": 7,
   "metadata": {},
   "outputs": [
    {
     "data": {
      "text/html": [
       "<div>\n",
       "<style scoped>\n",
       "    .dataframe tbody tr th:only-of-type {\n",
       "        vertical-align: middle;\n",
       "    }\n",
       "\n",
       "    .dataframe tbody tr th {\n",
       "        vertical-align: top;\n",
       "    }\n",
       "\n",
       "    .dataframe thead th {\n",
       "        text-align: right;\n",
       "    }\n",
       "</style>\n",
       "<table border=\"1\" class=\"dataframe\">\n",
       "  <thead>\n",
       "    <tr style=\"text-align: right;\">\n",
       "      <th></th>\n",
       "      <th>location_id</th>\n",
       "      <th>person_id</th>\n",
       "      <th>type</th>\n",
       "      <th>distance</th>\n",
       "      <th>prev_records</th>\n",
       "      <th>no_of_people</th>\n",
       "      <th>no_of_cops</th>\n",
       "      <th>population</th>\n",
       "      <th>beat_minutes</th>\n",
       "      <th>hr</th>\n",
       "      <th>min</th>\n",
       "      <th>date</th>\n",
       "      <th>threat_lvl</th>\n",
       "    </tr>\n",
       "  </thead>\n",
       "  <tbody>\n",
       "    <tr>\n",
       "      <th>0</th>\n",
       "      <td>3</td>\n",
       "      <td>6</td>\n",
       "      <td>fruad</td>\n",
       "      <td>1480</td>\n",
       "      <td>7</td>\n",
       "      <td>28</td>\n",
       "      <td>1</td>\n",
       "      <td>168</td>\n",
       "      <td>94</td>\n",
       "      <td>16</td>\n",
       "      <td>2</td>\n",
       "      <td>10</td>\n",
       "      <td>5</td>\n",
       "    </tr>\n",
       "    <tr>\n",
       "      <th>1</th>\n",
       "      <td>4</td>\n",
       "      <td>1</td>\n",
       "      <td>mob</td>\n",
       "      <td>2198</td>\n",
       "      <td>3</td>\n",
       "      <td>29</td>\n",
       "      <td>36</td>\n",
       "      <td>688</td>\n",
       "      <td>20</td>\n",
       "      <td>23</td>\n",
       "      <td>29</td>\n",
       "      <td>2</td>\n",
       "      <td>1</td>\n",
       "    </tr>\n",
       "    <tr>\n",
       "      <th>2</th>\n",
       "      <td>1</td>\n",
       "      <td>9</td>\n",
       "      <td>murder</td>\n",
       "      <td>2215</td>\n",
       "      <td>2</td>\n",
       "      <td>12</td>\n",
       "      <td>10</td>\n",
       "      <td>310</td>\n",
       "      <td>78</td>\n",
       "      <td>6</td>\n",
       "      <td>51</td>\n",
       "      <td>14</td>\n",
       "      <td>6</td>\n",
       "    </tr>\n",
       "    <tr>\n",
       "      <th>3</th>\n",
       "      <td>3</td>\n",
       "      <td>1</td>\n",
       "      <td>murder</td>\n",
       "      <td>3093</td>\n",
       "      <td>9</td>\n",
       "      <td>37</td>\n",
       "      <td>43</td>\n",
       "      <td>803</td>\n",
       "      <td>75</td>\n",
       "      <td>6</td>\n",
       "      <td>12</td>\n",
       "      <td>0</td>\n",
       "      <td>5</td>\n",
       "    </tr>\n",
       "    <tr>\n",
       "      <th>4</th>\n",
       "      <td>3</td>\n",
       "      <td>5</td>\n",
       "      <td>family</td>\n",
       "      <td>4636</td>\n",
       "      <td>3</td>\n",
       "      <td>30</td>\n",
       "      <td>17</td>\n",
       "      <td>479</td>\n",
       "      <td>97</td>\n",
       "      <td>19</td>\n",
       "      <td>18</td>\n",
       "      <td>6</td>\n",
       "      <td>8</td>\n",
       "    </tr>\n",
       "    <tr>\n",
       "      <th>5</th>\n",
       "      <td>4</td>\n",
       "      <td>4</td>\n",
       "      <td>murder</td>\n",
       "      <td>4933</td>\n",
       "      <td>2</td>\n",
       "      <td>23</td>\n",
       "      <td>23</td>\n",
       "      <td>56</td>\n",
       "      <td>40</td>\n",
       "      <td>8</td>\n",
       "      <td>6</td>\n",
       "      <td>0</td>\n",
       "      <td>9</td>\n",
       "    </tr>\n",
       "    <tr>\n",
       "      <th>6</th>\n",
       "      <td>1</td>\n",
       "      <td>12</td>\n",
       "      <td>mob</td>\n",
       "      <td>1598</td>\n",
       "      <td>8</td>\n",
       "      <td>16</td>\n",
       "      <td>7</td>\n",
       "      <td>620</td>\n",
       "      <td>42</td>\n",
       "      <td>21</td>\n",
       "      <td>8</td>\n",
       "      <td>16</td>\n",
       "      <td>8</td>\n",
       "    </tr>\n",
       "    <tr>\n",
       "      <th>7</th>\n",
       "      <td>1</td>\n",
       "      <td>3</td>\n",
       "      <td>rowdy</td>\n",
       "      <td>2826</td>\n",
       "      <td>6</td>\n",
       "      <td>14</td>\n",
       "      <td>44</td>\n",
       "      <td>473</td>\n",
       "      <td>48</td>\n",
       "      <td>1</td>\n",
       "      <td>18</td>\n",
       "      <td>8</td>\n",
       "      <td>8</td>\n",
       "    </tr>\n",
       "    <tr>\n",
       "      <th>8</th>\n",
       "      <td>3</td>\n",
       "      <td>6</td>\n",
       "      <td>fruad</td>\n",
       "      <td>3747</td>\n",
       "      <td>6</td>\n",
       "      <td>10</td>\n",
       "      <td>7</td>\n",
       "      <td>296</td>\n",
       "      <td>55</td>\n",
       "      <td>13</td>\n",
       "      <td>44</td>\n",
       "      <td>28</td>\n",
       "      <td>3</td>\n",
       "    </tr>\n",
       "    <tr>\n",
       "      <th>9</th>\n",
       "      <td>2</td>\n",
       "      <td>2</td>\n",
       "      <td>mob</td>\n",
       "      <td>1395</td>\n",
       "      <td>7</td>\n",
       "      <td>7</td>\n",
       "      <td>44</td>\n",
       "      <td>461</td>\n",
       "      <td>46</td>\n",
       "      <td>16</td>\n",
       "      <td>53</td>\n",
       "      <td>25</td>\n",
       "      <td>4</td>\n",
       "    </tr>\n",
       "  </tbody>\n",
       "</table>\n",
       "</div>"
      ],
      "text/plain": [
       "   location_id  person_id    type  distance  prev_records  no_of_people  \\\n",
       "0            3          6   fruad      1480             7            28   \n",
       "1            4          1     mob      2198             3            29   \n",
       "2            1          9  murder      2215             2            12   \n",
       "3            3          1  murder      3093             9            37   \n",
       "4            3          5  family      4636             3            30   \n",
       "5            4          4  murder      4933             2            23   \n",
       "6            1         12     mob      1598             8            16   \n",
       "7            1          3   rowdy      2826             6            14   \n",
       "8            3          6   fruad      3747             6            10   \n",
       "9            2          2     mob      1395             7             7   \n",
       "\n",
       "   no_of_cops  population  beat_minutes  hr  min  date  threat_lvl  \n",
       "0           1         168            94  16    2    10           5  \n",
       "1          36         688            20  23   29     2           1  \n",
       "2          10         310            78   6   51    14           6  \n",
       "3          43         803            75   6   12     0           5  \n",
       "4          17         479            97  19   18     6           8  \n",
       "5          23          56            40   8    6     0           9  \n",
       "6           7         620            42  21    8    16           8  \n",
       "7          44         473            48   1   18     8           8  \n",
       "8           7         296            55  13   44    28           3  \n",
       "9          44         461            46  16   53    25           4  "
      ]
     },
     "execution_count": 7,
     "metadata": {},
     "output_type": "execute_result"
    }
   ],
   "source": [
    "df.head(10)"
   ]
  },
  {
   "cell_type": "code",
   "execution_count": 8,
   "metadata": {},
   "outputs": [
    {
     "data": {
      "image/png": "[encoded data removed]",
      "text/plain": [
       "<Figure size 1440x720 with 1 Axes>"
      ]
     },
     "metadata": {
      "needs_background": "light"
     },
     "output_type": "display_data"
    }
   ],
   "source": [
    "plt.title('Type of Crime')\n",
    "plt.xlabel('Crime')\n",
    "plt.ylabel('Frequency')\n",
    "df['type'].value_counts().plot(kind='bar', figsize=(20, 10))\n",
    "plt.savefig('type_of_crime.png')\n",
    "plt.show()"
   ]
  },
  {
   "cell_type": "code",
   "execution_count": 9,
   "metadata": {},
   "outputs": [
    {
     "data": {
      "image/png": "[encoded data removed]",
      "text/plain": [
       "<Figure size 1440x720 with 1 Axes>"
      ]
     },
     "metadata": {
      "needs_background": "light"
     },
     "output_type": "display_data"
    }
   ],
   "source": [
    "plt.title('Distance Histogram')\n",
    "plt.ylabel('Frequency')\n",
    "plt.xlabel('Distance Distribution')\n",
    "df['distance'].plot(kind='hist', figsize=(20, 10))\n",
    "plt.savefig('distance.png')\n",
    "plt.show()"
   ]
  },
  {
   "cell_type": "code",
   "execution_count": 10,
   "metadata": {},
   "outputs": [
    {
     "data": {
      "image/png": "[encoded data removed]",
      "text/plain": [
       "<Figure size 1440x720 with 1 Axes>"
      ]
     },
     "metadata": {
      "needs_background": "light"
     },
     "output_type": "display_data"
    }
   ],
   "source": [
    "plt.title('Average time spent in Locations')\n",
    "plt.xlabel('Locations')\n",
    "plt.ylabel('Frequency')\n",
    "df.groupby(['location_id'])['beat_minutes'].mean().plot.bar(figsize=(20, 10))\n",
    "plt.savefig('time_spent_beats_avg.png')\n",
    "plt.show()"
   ]
  },
  {
   "cell_type": "code",
   "execution_count": 11,
   "metadata": {},
   "outputs": [
    {
     "data": {
      "image/png": "[encoded data removed]",
      "text/plain": [
       "<Figure size 1440x720 with 1 Axes>"
      ]
     },
     "metadata": {
      "needs_background": "light"
     },
     "output_type": "display_data"
    }
   ],
   "source": [
    "df.groupby(['location_id','type'])['prev_records'].count().unstack('location_id').plot(kind='bar', figsize=(20, 10))\n",
    "plt.title('Average Type of Crime Per Area')\n",
    "plt.xlabel('Type of Crime')\n",
    "plt.ylabel('Frequency')\n",
    "plt.savefig('crime_per_area.png')\n",
    "plt.show()"
   ]
  },
  {
   "cell_type": "code",
   "execution_count": 12,
   "metadata": {},
   "outputs": [
    {
     "data": {
      "image/png": "[encoded data removed]",
      "text/plain": [
       "<Figure size 1440x720 with 1 Axes>"
      ]
     },
     "metadata": {
      "needs_background": "light"
     },
     "output_type": "display_data"
    }
   ],
   "source": [
    "df.groupby(['location_id'])['no_of_cops'].count().plot(kind='bar', figsize=(20, 10))\n",
    "plt.title('Cops on duty on area')\n",
    "plt.xlabel('Location')\n",
    "plt.ylabel('Frequency')\n",
    "plt.savefig('cops_on_duty.png')\n",
    "plt.show()"
   ]
  },
  {
   "cell_type": "code",
   "execution_count": 13,
   "metadata": {},
   "outputs": [
    {
     "data": {
      "image/png": "[encoded data removed]",
      "text/plain": [
       "<Figure size 1440x720 with 1 Axes>"
      ]
     },
     "metadata": {
      "needs_background": "light"
     },
     "output_type": "display_data"
    }
   ],
   "source": [
    "df['hr'].plot(kind='hist', figsize=(20, 10))\n",
    "plt.title('Distribution of Crime based on Time')\n",
    "plt.xlabel('Hour of the Day (24hr)')\n",
    "plt.ylabel('Frequency')\n",
    "plt.savefig('hour_distribution.png')\n",
    "plt.show()"
   ]
  },
  {
   "cell_type": "code",
   "execution_count": 14,
   "metadata": {},
   "outputs": [],
   "source": [
    "from sklearn.preprocessing import LabelEncoder\n",
    "labelencoder_X = LabelEncoder()\n",
    "df['type'] = labelencoder_X.fit_transform(df['type'])"
   ]
  },
  {
   "cell_type": "code",
   "execution_count": 15,
   "metadata": {},
   "outputs": [
    {
     "data": {
      "text/html": [
       "<div>\n",
       "<style scoped>\n",
       "    .dataframe tbody tr th:only-of-type {\n",
       "        vertical-align: middle;\n",
       "    }\n",
       "\n",
       "    .dataframe tbody tr th {\n",
       "        vertical-align: top;\n",
       "    }\n",
       "\n",
       "    .dataframe thead th {\n",
       "        text-align: right;\n",
       "    }\n",
       "</style>\n",
       "<table border=\"1\" class=\"dataframe\">\n",
       "  <thead>\n",
       "    <tr style=\"text-align: right;\">\n",
       "      <th></th>\n",
       "      <th>location_id</th>\n",
       "      <th>person_id</th>\n",
       "      <th>type</th>\n",
       "      <th>distance</th>\n",
       "      <th>prev_records</th>\n",
       "      <th>no_of_people</th>\n",
       "      <th>no_of_cops</th>\n",
       "      <th>population</th>\n",
       "      <th>beat_minutes</th>\n",
       "      <th>hr</th>\n",
       "      <th>min</th>\n",
       "      <th>date</th>\n",
       "      <th>threat_lvl</th>\n",
       "    </tr>\n",
       "  </thead>\n",
       "  <tbody>\n",
       "    <tr>\n",
       "      <th>0</th>\n",
       "      <td>3</td>\n",
       "      <td>6</td>\n",
       "      <td>1</td>\n",
       "      <td>1480</td>\n",
       "      <td>7</td>\n",
       "      <td>28</td>\n",
       "      <td>1</td>\n",
       "      <td>168</td>\n",
       "      <td>94</td>\n",
       "      <td>16</td>\n",
       "      <td>2</td>\n",
       "      <td>10</td>\n",
       "      <td>5</td>\n",
       "    </tr>\n",
       "    <tr>\n",
       "      <th>1</th>\n",
       "      <td>4</td>\n",
       "      <td>1</td>\n",
       "      <td>2</td>\n",
       "      <td>2198</td>\n",
       "      <td>3</td>\n",
       "      <td>29</td>\n",
       "      <td>36</td>\n",
       "      <td>688</td>\n",
       "      <td>20</td>\n",
       "      <td>23</td>\n",
       "      <td>29</td>\n",
       "      <td>2</td>\n",
       "      <td>1</td>\n",
       "    </tr>\n",
       "    <tr>\n",
       "      <th>2</th>\n",
       "      <td>1</td>\n",
       "      <td>9</td>\n",
       "      <td>3</td>\n",
       "      <td>2215</td>\n",
       "      <td>2</td>\n",
       "      <td>12</td>\n",
       "      <td>10</td>\n",
       "      <td>310</td>\n",
       "      <td>78</td>\n",
       "      <td>6</td>\n",
       "      <td>51</td>\n",
       "      <td>14</td>\n",
       "      <td>6</td>\n",
       "    </tr>\n",
       "    <tr>\n",
       "      <th>3</th>\n",
       "      <td>3</td>\n",
       "      <td>1</td>\n",
       "      <td>3</td>\n",
       "      <td>3093</td>\n",
       "      <td>9</td>\n",
       "      <td>37</td>\n",
       "      <td>43</td>\n",
       "      <td>803</td>\n",
       "      <td>75</td>\n",
       "      <td>6</td>\n",
       "      <td>12</td>\n",
       "      <td>0</td>\n",
       "      <td>5</td>\n",
       "    </tr>\n",
       "    <tr>\n",
       "      <th>4</th>\n",
       "      <td>3</td>\n",
       "      <td>5</td>\n",
       "      <td>0</td>\n",
       "      <td>4636</td>\n",
       "      <td>3</td>\n",
       "      <td>30</td>\n",
       "      <td>17</td>\n",
       "      <td>479</td>\n",
       "      <td>97</td>\n",
       "      <td>19</td>\n",
       "      <td>18</td>\n",
       "      <td>6</td>\n",
       "      <td>8</td>\n",
       "    </tr>\n",
       "  </tbody>\n",
       "</table>\n",
       "</div>"
      ],
      "text/plain": [
       "   location_id  person_id  type  distance  prev_records  no_of_people  \\\n",
       "0            3          6     1      1480             7            28   \n",
       "1            4          1     2      2198             3            29   \n",
       "2            1          9     3      2215             2            12   \n",
       "3            3          1     3      3093             9            37   \n",
       "4            3          5     0      4636             3            30   \n",
       "\n",
       "   no_of_cops  population  beat_minutes  hr  min  date  threat_lvl  \n",
       "0           1         168            94  16    2    10           5  \n",
       "1          36         688            20  23   29     2           1  \n",
       "2          10         310            78   6   51    14           6  \n",
       "3          43         803            75   6   12     0           5  \n",
       "4          17         479            97  19   18     6           8  "
      ]
     },
     "execution_count": 15,
     "metadata": {},
     "output_type": "execute_result"
    }
   ],
   "source": [
    "df.head()"
   ]
  },
  {
   "cell_type": "code",
   "execution_count": 16,
   "metadata": {},
   "outputs": [],
   "source": [
    "X = df.iloc[:, 0:12].values\n",
    "y = df.iloc[:, 12].values"
   ]
  },
  {
   "cell_type": "code",
   "execution_count": 17,
   "metadata": {},
   "outputs": [
    {
     "data": {
      "text/plain": [
       "(1000, 12)"
      ]
     },
     "execution_count": 17,
     "metadata": {},
     "output_type": "execute_result"
    }
   ],
   "source": [
    "X.shape"
   ]
  },
  {
   "cell_type": "code",
   "execution_count": 18,
   "metadata": {},
   "outputs": [
    {
     "data": {
      "text/plain": [
       "(1000,)"
      ]
     },
     "execution_count": 18,
     "metadata": {},
     "output_type": "execute_result"
    }
   ],
   "source": [
    "y.shape"
   ]
  },
  {
   "cell_type": "code",
   "execution_count": 19,
   "metadata": {},
   "outputs": [],
   "source": [
    "from sklearn.model_selection import train_test_split"
   ]
  },
  {
   "cell_type": "code",
   "execution_count": 20,
   "metadata": {},
   "outputs": [],
   "source": [
    "X_train, X_test, y_train, y_test = train_test_split(X, y, test_size=0.2, random_state=42)"
   ]
  },
  {
   "cell_type": "code",
   "execution_count": 21,
   "metadata": {},
   "outputs": [],
   "source": [
    "import tensorflow as tf\n",
    "from tensorflow.keras import Sequential\n",
    "from tensorflow.keras.layers import Dense"
   ]
  },
  {
   "cell_type": "code",
   "execution_count": 22,
   "metadata": {},
   "outputs": [],
   "source": [
    "def build_regressor():\n",
    "    regressor = Sequential()\n",
    "    regressor.add(Dense(units=13, input_dim=12))\n",
    "    regressor.add(Dense(units=1))\n",
    "    regressor.compile(optimizer='adam', loss='mean_squared_error',  metrics=['mae','accuracy'])\n",
    "    return regressor"
   ]
  },
  {
   "cell_type": "code",
   "execution_count": 23,
   "metadata": {},
   "outputs": [],
   "source": [
    "from tensorflow.keras.wrappers.scikit_learn import KerasRegressor\n",
    "model = KerasRegressor(build_fn=build_regressor, batch_size=32,epochs=100)"
   ]
  },
  {
   "cell_type": "code",
   "execution_count": 24,
   "metadata": {},
   "outputs": [
    {
     "name": "stdout",
     "output_type": "stream",
     "text": [
      "Train on 800 samples\n",
      "Epoch 1/200\n",
      "800/800 [==============================] - 0s 479us/sample - loss: 171647.9188 - mae: 366.8341 - accuracy: 0.0000e+00\n",
      "Epoch 2/200\n",
      "800/800 [==============================] - 0s 29us/sample - loss: 19442.8552 - mae: 113.3578 - accuracy: 0.0463\n",
      "Epoch 3/200\n",
      "800/800 [==============================] - 0s 28us/sample - loss: 15070.9071 - mae: 100.2929 - accuracy: 0.0550\n",
      "Epoch 4/200\n",
      "800/800 [==============================] - 0s 27us/sample - loss: 11679.3523 - mae: 88.1870 - accuracy: 0.0413\n",
      "Epoch 5/200\n",
      "800/800 [==============================] - 0s 30us/sample - loss: 9080.8533 - mae: 77.6329 - accuracy: 0.0463\n",
      "Epoch 6/200\n",
      "800/800 [==============================] - 0s 28us/sample - loss: 6923.4592 - mae: 67.6108 - accuracy: 0.0475\n",
      "Epoch 7/200\n",
      "800/800 [==============================] - 0s 31us/sample - loss: 5127.9265 - mae: 58.1917 - accuracy: 0.0450\n",
      "Epoch 8/200\n",
      "800/800 [==============================] - 0s 30us/sample - loss: 3744.3331 - mae: 49.6089 - accuracy: 0.0500\n",
      "Epoch 9/200\n",
      "800/800 [==============================] - 0s 28us/sample - loss: 2664.0561 - mae: 41.6370 - accuracy: 0.0487\n",
      "Epoch 10/200\n",
      "800/800 [==============================] - 0s 27us/sample - loss: 1878.1875 - mae: 34.8537 - accuracy: 0.0463\n",
      "Epoch 11/200\n",
      "800/800 [==============================] - 0s 27us/sample - loss: 1309.9644 - mae: 29.1811 - accuracy: 0.0500\n",
      "Epoch 12/200\n",
      "800/800 [==============================] - 0s 32us/sample - loss: 923.0188 - mae: 24.4535 - accuracy: 0.0475\n",
      "Epoch 13/200\n",
      "800/800 [==============================] - 0s 30us/sample - loss: 665.3273 - mae: 20.7337 - accuracy: 0.0512\n",
      "Epoch 14/200\n",
      "800/800 [==============================] - 0s 29us/sample - loss: 490.0236 - mae: 17.7676 - accuracy: 0.0512\n",
      "Epoch 15/200\n",
      "800/800 [==============================] - 0s 29us/sample - loss: 379.2235 - mae: 15.5745 - accuracy: 0.0550\n",
      "Epoch 16/200\n",
      "800/800 [==============================] - 0s 29us/sample - loss: 305.4207 - mae: 13.9607 - accuracy: 0.0575\n",
      "Epoch 17/200\n",
      "800/800 [==============================] - 0s 29us/sample - loss: 260.0555 - mae: 12.9833 - accuracy: 0.0600\n",
      "Epoch 18/200\n",
      "800/800 [==============================] - 0s 31us/sample - loss: 230.8952 - mae: 12.2558 - accuracy: 0.0613\n",
      "Epoch 19/200\n",
      "800/800 [==============================] - 0s 30us/sample - loss: 210.6674 - mae: 11.7440 - accuracy: 0.0613\n",
      "Epoch 20/200\n",
      "800/800 [==============================] - 0s 31us/sample - loss: 197.5598 - mae: 11.3998 - accuracy: 0.0600\n",
      "Epoch 21/200\n",
      "800/800 [==============================] - 0s 32us/sample - loss: 185.8820 - mae: 11.0717 - accuracy: 0.0650\n",
      "Epoch 22/200\n",
      "800/800 [==============================] - 0s 32us/sample - loss: 177.0737 - mae: 10.8357 - accuracy: 0.0688\n",
      "Epoch 23/200\n",
      "800/800 [==============================] - 0s 31us/sample - loss: 168.9146 - mae: 10.5627 - accuracy: 0.0675\n",
      "Epoch 24/200\n",
      "800/800 [==============================] - 0s 30us/sample - loss: 161.4994 - mae: 10.3361 - accuracy: 0.0662\n",
      "Epoch 25/200\n",
      "800/800 [==============================] - 0s 30us/sample - loss: 154.5458 - mae: 10.1378 - accuracy: 0.0700\n",
      "Epoch 26/200\n",
      "800/800 [==============================] - 0s 31us/sample - loss: 147.9344 - mae: 9.9011 - accuracy: 0.0700\n",
      "Epoch 27/200\n",
      "800/800 [==============================] - 0s 38us/sample - loss: 141.9933 - mae: 9.7250 - accuracy: 0.0725\n",
      "Epoch 28/200\n",
      "800/800 [==============================] - 0s 38us/sample - loss: 136.0250 - mae: 9.4968 - accuracy: 0.0700\n",
      "Epoch 29/200\n",
      "800/800 [==============================] - 0s 37us/sample - loss: 129.3715 - mae: 9.2499 - accuracy: 0.0688\n",
      "Epoch 30/200\n",
      "800/800 [==============================] - 0s 38us/sample - loss: 125.9174 - mae: 9.1353 - accuracy: 0.0737\n",
      "Epoch 31/200\n",
      "800/800 [==============================] - 0s 34us/sample - loss: 120.6776 - mae: 8.9608 - accuracy: 0.0712\n",
      "Epoch 32/200\n",
      "800/800 [==============================] - 0s 34us/sample - loss: 112.9911 - mae: 8.6748 - accuracy: 0.0750\n",
      "Epoch 33/200\n",
      "800/800 [==============================] - 0s 31us/sample - loss: 107.4359 - mae: 8.4232 - accuracy: 0.0750\n",
      "Epoch 34/200\n",
      "800/800 [==============================] - 0s 31us/sample - loss: 102.6258 - mae: 8.2522 - accuracy: 0.0750\n",
      "Epoch 35/200\n",
      "800/800 [==============================] - 0s 33us/sample - loss: 97.6116 - mae: 8.0514 - accuracy: 0.0750\n",
      "Epoch 36/200\n",
      "800/800 [==============================] - 0s 29us/sample - loss: 93.0895 - mae: 7.8515 - accuracy: 0.0763\n",
      "Epoch 37/200\n",
      "800/800 [==============================] - 0s 30us/sample - loss: 89.1776 - mae: 7.6949 - accuracy: 0.0775\n",
      "Epoch 38/200\n",
      "800/800 [==============================] - 0s 28us/sample - loss: 85.0440 - mae: 7.4999 - accuracy: 0.0775\n",
      "Epoch 39/200\n",
      "800/800 [==============================] - 0s 28us/sample - loss: 80.9974 - mae: 7.3385 - accuracy: 0.0787\n",
      "Epoch 40/200\n",
      "800/800 [==============================] - 0s 28us/sample - loss: 77.5770 - mae: 7.1359 - accuracy: 0.0763\n",
      "Epoch 41/200\n",
      "800/800 [==============================] - 0s 33us/sample - loss: 73.4356 - mae: 6.9966 - accuracy: 0.0800\n",
      "Epoch 42/200\n",
      "800/800 [==============================] - 0s 31us/sample - loss: 70.7219 - mae: 6.8162 - accuracy: 0.0775\n",
      "Epoch 43/200\n",
      "800/800 [==============================] - 0s 28us/sample - loss: 67.0670 - mae: 6.6231 - accuracy: 0.0787\n",
      "Epoch 44/200\n",
      "800/800 [==============================] - 0s 28us/sample - loss: 64.7182 - mae: 6.5107 - accuracy: 0.0800\n",
      "Epoch 45/200\n",
      "800/800 [==============================] - 0s 32us/sample - loss: 62.0263 - mae: 6.4056 - accuracy: 0.0800\n",
      "Epoch 46/200\n",
      "800/800 [==============================] - 0s 36us/sample - loss: 58.4172 - mae: 6.2169 - accuracy: 0.0825\n",
      "Epoch 47/200\n",
      "800/800 [==============================] - 0s 33us/sample - loss: 55.4756 - mae: 6.0582 - accuracy: 0.0812\n",
      "Epoch 48/200\n",
      "800/800 [==============================] - 0s 36us/sample - loss: 53.9751 - mae: 5.9437 - accuracy: 0.0812\n",
      "Epoch 49/200\n",
      "800/800 [==============================] - 0s 36us/sample - loss: 51.1514 - mae: 5.7946 - accuracy: 0.0812\n",
      "Epoch 50/200\n",
      "800/800 [==============================] - 0s 36us/sample - loss: 49.0216 - mae: 5.6660 - accuracy: 0.0812\n",
      "Epoch 51/200\n",
      "800/800 [==============================] - 0s 35us/sample - loss: 46.6264 - mae: 5.5301 - accuracy: 0.0825\n",
      "Epoch 52/200\n",
      "800/800 [==============================] - 0s 31us/sample - loss: 44.9319 - mae: 5.4257 - accuracy: 0.0825\n",
      "Epoch 53/200\n",
      "800/800 [==============================] - 0s 30us/sample - loss: 43.5865 - mae: 5.3484 - accuracy: 0.0875\n",
      "Epoch 54/200\n",
      "800/800 [==============================] - 0s 30us/sample - loss: 40.8379 - mae: 5.1662 - accuracy: 0.0862\n",
      "Epoch 55/200\n",
      "800/800 [==============================] - 0s 29us/sample - loss: 39.4453 - mae: 5.0810 - accuracy: 0.0875\n",
      "Epoch 56/200\n",
      "800/800 [==============================] - 0s 32us/sample - loss: 37.8738 - mae: 4.9647 - accuracy: 0.0887\n",
      "Epoch 57/200\n",
      "800/800 [==============================] - 0s 34us/sample - loss: 36.1944 - mae: 4.8599 - accuracy: 0.0887\n",
      "Epoch 58/200\n",
      "800/800 [==============================] - 0s 31us/sample - loss: 34.5883 - mae: 4.7543 - accuracy: 0.0887\n",
      "Epoch 59/200\n",
      "800/800 [==============================] - 0s 31us/sample - loss: 33.2076 - mae: 4.6580 - accuracy: 0.0950\n",
      "Epoch 60/200\n",
      "800/800 [==============================] - 0s 33us/sample - loss: 32.9926 - mae: 4.6457 - accuracy: 0.0975\n",
      "Epoch 61/200\n",
      "800/800 [==============================] - 0s 34us/sample - loss: 31.7998 - mae: 4.5440 - accuracy: 0.0925\n",
      "Epoch 62/200\n",
      "800/800 [==============================] - 0s 35us/sample - loss: 29.8892 - mae: 4.4145 - accuracy: 0.0962\n",
      "Epoch 63/200\n",
      "800/800 [==============================] - 0s 49us/sample - loss: 28.5786 - mae: 4.3376 - accuracy: 0.0975\n",
      "Epoch 64/200\n",
      "800/800 [==============================] - 0s 38us/sample - loss: 27.4061 - mae: 4.2363 - accuracy: 0.0988\n",
      "Epoch 65/200\n",
      "800/800 [==============================] - 0s 34us/sample - loss: 26.5089 - mae: 4.1721 - accuracy: 0.0988\n",
      "Epoch 66/200\n",
      "800/800 [==============================] - 0s 34us/sample - loss: 25.9374 - mae: 4.1331 - accuracy: 0.0975\n",
      "Epoch 67/200\n",
      "800/800 [==============================] - 0s 31us/sample - loss: 24.6493 - mae: 4.0171 - accuracy: 0.1000\n",
      "Epoch 68/200\n",
      "800/800 [==============================] - 0s 32us/sample - loss: 23.9155 - mae: 3.9746 - accuracy: 0.0975\n",
      "Epoch 69/200\n",
      "800/800 [==============================] - 0s 33us/sample - loss: 23.0073 - mae: 3.8876 - accuracy: 0.1000\n",
      "Epoch 70/200\n",
      "800/800 [==============================] - 0s 35us/sample - loss: 22.9336 - mae: 3.8742 - accuracy: 0.0988\n",
      "Epoch 71/200\n",
      "800/800 [==============================] - 0s 32us/sample - loss: 21.6520 - mae: 3.7831 - accuracy: 0.0988\n",
      "Epoch 72/200\n",
      "800/800 [==============================] - 0s 33us/sample - loss: 21.0266 - mae: 3.7255 - accuracy: 0.1013\n",
      "Epoch 73/200\n",
      "800/800 [==============================] - 0s 31us/sample - loss: 20.0865 - mae: 3.6414 - accuracy: 0.1013\n",
      "Epoch 74/200\n",
      "800/800 [==============================] - 0s 34us/sample - loss: 19.9739 - mae: 3.6498 - accuracy: 0.1013\n",
      "Epoch 75/200\n",
      "800/800 [==============================] - 0s 33us/sample - loss: 19.2029 - mae: 3.5665 - accuracy: 0.1025\n",
      "Epoch 76/200\n",
      "800/800 [==============================] - 0s 37us/sample - loss: 18.3913 - mae: 3.5102 - accuracy: 0.1025\n",
      "Epoch 77/200\n",
      "800/800 [==============================] - 0s 38us/sample - loss: 17.8808 - mae: 3.4542 - accuracy: 0.1025\n",
      "Epoch 78/200\n",
      "800/800 [==============================] - 0s 37us/sample - loss: 17.3264 - mae: 3.4106 - accuracy: 0.1037\n",
      "Epoch 79/200\n",
      "800/800 [==============================] - 0s 32us/sample - loss: 16.9715 - mae: 3.3727 - accuracy: 0.1063\n",
      "Epoch 80/200\n",
      "800/800 [==============================] - 0s 34us/sample - loss: 16.3630 - mae: 3.3195 - accuracy: 0.1063\n",
      "Epoch 81/200\n",
      "800/800 [==============================] - 0s 34us/sample - loss: 16.0311 - mae: 3.2739 - accuracy: 0.1075\n",
      "Epoch 82/200\n",
      "800/800 [==============================] - 0s 33us/sample - loss: 15.4455 - mae: 3.2243 - accuracy: 0.1063\n",
      "Epoch 83/200\n",
      "800/800 [==============================] - 0s 31us/sample - loss: 15.3866 - mae: 3.2124 - accuracy: 0.1112\n",
      "Epoch 84/200\n",
      "800/800 [==============================] - 0s 34us/sample - loss: 15.2170 - mae: 3.2055 - accuracy: 0.1100\n",
      "Epoch 85/200\n",
      "800/800 [==============================] - 0s 33us/sample - loss: 14.4544 - mae: 3.1330 - accuracy: 0.1100\n",
      "Epoch 86/200\n",
      "800/800 [==============================] - 0s 32us/sample - loss: 14.2130 - mae: 3.0953 - accuracy: 0.1138\n",
      "Epoch 87/200\n",
      "800/800 [==============================] - 0s 32us/sample - loss: 13.6945 - mae: 3.0471 - accuracy: 0.1112\n",
      "Epoch 88/200\n",
      "800/800 [==============================] - 0s 31us/sample - loss: 13.3813 - mae: 3.0142 - accuracy: 0.1138\n",
      "Epoch 89/200\n",
      "800/800 [==============================] - 0s 35us/sample - loss: 13.3778 - mae: 3.0112 - accuracy: 0.1150\n",
      "Epoch 90/200\n",
      "800/800 [==============================] - 0s 37us/sample - loss: 12.9359 - mae: 2.9710 - accuracy: 0.1125\n",
      "Epoch 91/200\n",
      "800/800 [==============================] - 0s 35us/sample - loss: 12.6967 - mae: 2.9405 - accuracy: 0.1150\n",
      "Epoch 92/200\n",
      "800/800 [==============================] - 0s 36us/sample - loss: 12.4317 - mae: 2.9125 - accuracy: 0.1150\n",
      "Epoch 93/200\n",
      "800/800 [==============================] - 0s 32us/sample - loss: 12.3484 - mae: 2.9073 - accuracy: 0.1150\n",
      "Epoch 94/200\n",
      "800/800 [==============================] - 0s 34us/sample - loss: 11.8307 - mae: 2.8428 - accuracy: 0.1150\n",
      "Epoch 95/200\n",
      "800/800 [==============================] - 0s 35us/sample - loss: 11.6433 - mae: 2.8230 - accuracy: 0.1150\n",
      "Epoch 96/200\n",
      "800/800 [==============================] - 0s 35us/sample - loss: 11.4354 - mae: 2.8074 - accuracy: 0.1163\n",
      "Epoch 97/200\n",
      "800/800 [==============================] - 0s 33us/sample - loss: 11.2863 - mae: 2.7741 - accuracy: 0.1187\n",
      "Epoch 98/200\n",
      "800/800 [==============================] - 0s 33us/sample - loss: 11.0216 - mae: 2.7561 - accuracy: 0.1187\n",
      "Epoch 99/200\n",
      "800/800 [==============================] - 0s 34us/sample - loss: 10.9401 - mae: 2.7509 - accuracy: 0.1175\n",
      "Epoch 100/200\n",
      "800/800 [==============================] - 0s 39us/sample - loss: 10.6796 - mae: 2.7184 - accuracy: 0.1187\n",
      "Epoch 101/200\n",
      "800/800 [==============================] - 0s 39us/sample - loss: 10.6357 - mae: 2.7094 - accuracy: 0.1187\n",
      "Epoch 102/200\n",
      "800/800 [==============================] - 0s 35us/sample - loss: 10.3274 - mae: 2.6749 - accuracy: 0.1163\n",
      "Epoch 103/200\n",
      "800/800 [==============================] - 0s 31us/sample - loss: 10.4713 - mae: 2.6704 - accuracy: 0.1175\n",
      "Epoch 104/200\n",
      "800/800 [==============================] - 0s 35us/sample - loss: 10.3405 - mae: 2.6804 - accuracy: 0.1187\n",
      "Epoch 105/200\n",
      "800/800 [==============================] - 0s 33us/sample - loss: 10.0735 - mae: 2.6441 - accuracy: 0.1187\n",
      "Epoch 106/200\n",
      "800/800 [==============================] - 0s 32us/sample - loss: 10.0533 - mae: 2.6286 - accuracy: 0.1187\n",
      "Epoch 107/200\n",
      "800/800 [==============================] - 0s 30us/sample - loss: 9.8187 - mae: 2.6082 - accuracy: 0.1187\n",
      "Epoch 108/200\n",
      "800/800 [==============================] - 0s 32us/sample - loss: 9.6217 - mae: 2.5924 - accuracy: 0.1187\n",
      "Epoch 109/200\n",
      "800/800 [==============================] - 0s 31us/sample - loss: 9.6679 - mae: 2.5826 - accuracy: 0.1187\n",
      "Epoch 110/200\n",
      "800/800 [==============================] - 0s 29us/sample - loss: 9.4469 - mae: 2.5777 - accuracy: 0.1187\n",
      "Epoch 111/200\n",
      "800/800 [==============================] - 0s 34us/sample - loss: 10.2734 - mae: 2.6620 - accuracy: 0.1187\n",
      "Epoch 112/200\n",
      "800/800 [==============================] - 0s 29us/sample - loss: 9.4264 - mae: 2.5701 - accuracy: 0.1187\n",
      "Epoch 113/200\n",
      "800/800 [==============================] - 0s 35us/sample - loss: 9.3630 - mae: 2.5543 - accuracy: 0.1187\n",
      "Epoch 114/200\n",
      "800/800 [==============================] - 0s 30us/sample - loss: 9.1319 - mae: 2.5390 - accuracy: 0.1187\n",
      "Epoch 115/200\n",
      "800/800 [==============================] - 0s 31us/sample - loss: 9.1349 - mae: 2.5331 - accuracy: 0.1187\n",
      "Epoch 116/200\n",
      "800/800 [==============================] - 0s 31us/sample - loss: 9.2103 - mae: 2.5363 - accuracy: 0.1175\n",
      "Epoch 117/200\n",
      "800/800 [==============================] - 0s 32us/sample - loss: 9.0392 - mae: 2.5171 - accuracy: 0.1187\n",
      "Epoch 118/200\n",
      "800/800 [==============================] - 0s 30us/sample - loss: 8.8421 - mae: 2.4943 - accuracy: 0.1187\n",
      "Epoch 119/200\n",
      "800/800 [==============================] - 0s 30us/sample - loss: 8.8301 - mae: 2.4913 - accuracy: 0.1187\n",
      "Epoch 120/200\n",
      "800/800 [==============================] - 0s 29us/sample - loss: 8.7384 - mae: 2.4823 - accuracy: 0.1187\n",
      "Epoch 121/200\n",
      "800/800 [==============================] - 0s 29us/sample - loss: 8.7231 - mae: 2.4706 - accuracy: 0.1187\n",
      "Epoch 122/200\n",
      "800/800 [==============================] - 0s 30us/sample - loss: 8.7708 - mae: 2.4765 - accuracy: 0.1187\n",
      "Epoch 123/200\n",
      "800/800 [==============================] - 0s 32us/sample - loss: 8.6749 - mae: 2.4577 - accuracy: 0.1187\n",
      "Epoch 124/200\n",
      "800/800 [==============================] - 0s 33us/sample - loss: 8.8882 - mae: 2.4899 - accuracy: 0.1187\n",
      "Epoch 125/200\n",
      "800/800 [==============================] - 0s 30us/sample - loss: 8.6823 - mae: 2.4652 - accuracy: 0.1187\n",
      "Epoch 126/200\n",
      "800/800 [==============================] - 0s 28us/sample - loss: 8.4666 - mae: 2.4361 - accuracy: 0.1187\n",
      "Epoch 127/200\n",
      "800/800 [==============================] - 0s 29us/sample - loss: 8.4342 - mae: 2.4386 - accuracy: 0.1187\n",
      "Epoch 128/200\n",
      "800/800 [==============================] - 0s 34us/sample - loss: 8.5446 - mae: 2.4455 - accuracy: 0.1187\n",
      "Epoch 129/200\n",
      "800/800 [==============================] - 0s 30us/sample - loss: 8.5675 - mae: 2.4420 - accuracy: 0.1187\n",
      "Epoch 130/200\n",
      "800/800 [==============================] - 0s 32us/sample - loss: 8.3028 - mae: 2.4029 - accuracy: 0.1187\n",
      "Epoch 131/200\n",
      "800/800 [==============================] - 0s 29us/sample - loss: 8.3590 - mae: 2.4169 - accuracy: 0.1187\n",
      "Epoch 132/200\n",
      "800/800 [==============================] - 0s 30us/sample - loss: 8.3322 - mae: 2.4144 - accuracy: 0.1187\n",
      "Epoch 133/200\n",
      "800/800 [==============================] - 0s 35us/sample - loss: 8.3320 - mae: 2.4250 - accuracy: 0.1187\n",
      "Epoch 134/200\n",
      "800/800 [==============================] - 0s 31us/sample - loss: 8.3008 - mae: 2.4046 - accuracy: 0.1187\n",
      "Epoch 135/200\n",
      "800/800 [==============================] - 0s 34us/sample - loss: 8.4083 - mae: 2.4380 - accuracy: 0.1187\n",
      "Epoch 136/200\n",
      "800/800 [==============================] - 0s 36us/sample - loss: 8.3005 - mae: 2.4187 - accuracy: 0.1187\n",
      "Epoch 137/200\n",
      "800/800 [==============================] - 0s 37us/sample - loss: 8.1013 - mae: 2.3881 - accuracy: 0.1187\n",
      "Epoch 138/200\n",
      "800/800 [==============================] - 0s 34us/sample - loss: 8.2095 - mae: 2.3947 - accuracy: 0.1187\n",
      "Epoch 139/200\n",
      "800/800 [==============================] - 0s 33us/sample - loss: 8.1341 - mae: 2.3868 - accuracy: 0.1187\n",
      "Epoch 140/200\n",
      "800/800 [==============================] - 0s 33us/sample - loss: 8.1245 - mae: 2.3866 - accuracy: 0.1187\n",
      "Epoch 141/200\n",
      "800/800 [==============================] - 0s 37us/sample - loss: 8.1136 - mae: 2.3880 - accuracy: 0.1187\n",
      "Epoch 142/200\n",
      "800/800 [==============================] - 0s 31us/sample - loss: 8.3715 - mae: 2.4183 - accuracy: 0.1187\n",
      "Epoch 143/200\n",
      "800/800 [==============================] - 0s 35us/sample - loss: 8.2890 - mae: 2.4081 - accuracy: 0.1187\n",
      "Epoch 144/200\n",
      "800/800 [==============================] - 0s 34us/sample - loss: 8.0482 - mae: 2.3802 - accuracy: 0.1187\n",
      "Epoch 145/200\n",
      "800/800 [==============================] - 0s 32us/sample - loss: 8.0026 - mae: 2.3726 - accuracy: 0.1187\n",
      "Epoch 146/200\n",
      "800/800 [==============================] - 0s 33us/sample - loss: 7.9148 - mae: 2.3631 - accuracy: 0.1187\n",
      "Epoch 147/200\n",
      "800/800 [==============================] - 0s 34us/sample - loss: 7.9795 - mae: 2.3627 - accuracy: 0.1187\n",
      "Epoch 148/200\n",
      "800/800 [==============================] - 0s 32us/sample - loss: 7.9559 - mae: 2.3591 - accuracy: 0.1187\n",
      "Epoch 149/200\n",
      "800/800 [==============================] - 0s 38us/sample - loss: 8.1233 - mae: 2.3805 - accuracy: 0.1187\n",
      "Epoch 150/200\n",
      "800/800 [==============================] - 0s 31us/sample - loss: 8.8116 - mae: 2.4782 - accuracy: 0.1187\n",
      "Epoch 151/200\n",
      "800/800 [==============================] - 0s 31us/sample - loss: 7.9248 - mae: 2.3580 - accuracy: 0.1187\n",
      "Epoch 152/200\n",
      "800/800 [==============================] - 0s 32us/sample - loss: 8.0805 - mae: 2.3665 - accuracy: 0.1187\n",
      "Epoch 153/200\n",
      "800/800 [==============================] - 0s 34us/sample - loss: 7.9895 - mae: 2.3624 - accuracy: 0.1187\n",
      "Epoch 154/200\n",
      "800/800 [==============================] - 0s 32us/sample - loss: 8.4659 - mae: 2.4304 - accuracy: 0.1187\n",
      "Epoch 155/200\n",
      "800/800 [==============================] - 0s 30us/sample - loss: 8.1711 - mae: 2.3991 - accuracy: 0.1187\n",
      "Epoch 156/200\n",
      "800/800 [==============================] - 0s 30us/sample - loss: 8.0772 - mae: 2.3895 - accuracy: 0.1187\n",
      "Epoch 157/200\n",
      "800/800 [==============================] - 0s 31us/sample - loss: 7.9127 - mae: 2.3635 - accuracy: 0.1187\n",
      "Epoch 158/200\n",
      "800/800 [==============================] - 0s 31us/sample - loss: 8.0125 - mae: 2.3791 - accuracy: 0.1187\n",
      "Epoch 159/200\n",
      "800/800 [==============================] - 0s 31us/sample - loss: 7.9856 - mae: 2.3778 - accuracy: 0.1187\n",
      "Epoch 160/200\n",
      "800/800 [==============================] - 0s 36us/sample - loss: 8.1996 - mae: 2.3950 - accuracy: 0.1187\n",
      "Epoch 161/200\n",
      "800/800 [==============================] - 0s 34us/sample - loss: 8.2808 - mae: 2.4146 - accuracy: 0.1187\n",
      "Epoch 162/200\n",
      "800/800 [==============================] - 0s 34us/sample - loss: 7.9816 - mae: 2.3542 - accuracy: 0.1187\n",
      "Epoch 163/200\n",
      "800/800 [==============================] - 0s 30us/sample - loss: 7.7584 - mae: 2.3386 - accuracy: 0.1187\n",
      "Epoch 164/200\n",
      "800/800 [==============================] - 0s 35us/sample - loss: 7.6810 - mae: 2.3277 - accuracy: 0.1187\n",
      "Epoch 165/200\n",
      "800/800 [==============================] - 0s 29us/sample - loss: 7.7070 - mae: 2.3326 - accuracy: 0.1187\n",
      "Epoch 166/200\n",
      "800/800 [==============================] - 0s 34us/sample - loss: 7.6764 - mae: 2.3345 - accuracy: 0.1187\n",
      "Epoch 167/200\n",
      "800/800 [==============================] - 0s 30us/sample - loss: 7.8743 - mae: 2.3555 - accuracy: 0.1187\n",
      "Epoch 168/200\n",
      "800/800 [==============================] - 0s 30us/sample - loss: 7.8655 - mae: 2.3518 - accuracy: 0.1187\n",
      "Epoch 169/200\n",
      "800/800 [==============================] - 0s 34us/sample - loss: 7.9887 - mae: 2.3655 - accuracy: 0.1187\n",
      "Epoch 170/200\n",
      "800/800 [==============================] - 0s 34us/sample - loss: 8.2014 - mae: 2.4153 - accuracy: 0.1187\n",
      "Epoch 171/200\n",
      "800/800 [==============================] - 0s 30us/sample - loss: 7.7578 - mae: 2.3352 - accuracy: 0.1187\n",
      "Epoch 172/200\n",
      "800/800 [==============================] - 0s 30us/sample - loss: 7.7011 - mae: 2.3313 - accuracy: 0.1187\n",
      "Epoch 173/200\n",
      "800/800 [==============================] - 0s 34us/sample - loss: 7.7374 - mae: 2.3348 - accuracy: 0.1187\n",
      "Epoch 174/200\n",
      "800/800 [==============================] - 0s 31us/sample - loss: 8.0044 - mae: 2.3701 - accuracy: 0.1187\n",
      "Epoch 175/200\n",
      "800/800 [==============================] - 0s 39us/sample - loss: 7.6258 - mae: 2.3339 - accuracy: 0.1187\n",
      "Epoch 176/200\n",
      "800/800 [==============================] - 0s 31us/sample - loss: 8.0930 - mae: 2.3814 - accuracy: 0.1187\n",
      "Epoch 177/200\n",
      "800/800 [==============================] - 0s 29us/sample - loss: 7.8437 - mae: 2.3623 - accuracy: 0.1187\n",
      "Epoch 178/200\n",
      "800/800 [==============================] - 0s 34us/sample - loss: 7.7531 - mae: 2.3416 - accuracy: 0.1187\n",
      "Epoch 179/200\n",
      "800/800 [==============================] - 0s 30us/sample - loss: 7.7666 - mae: 2.3303 - accuracy: 0.1187\n",
      "Epoch 180/200\n",
      "800/800 [==============================] - 0s 28us/sample - loss: 7.7928 - mae: 2.3583 - accuracy: 0.1187\n",
      "Epoch 181/200\n",
      "800/800 [==============================] - 0s 35us/sample - loss: 7.7324 - mae: 2.3292 - accuracy: 0.1187\n",
      "Epoch 182/200\n",
      "800/800 [==============================] - 0s 29us/sample - loss: 7.9797 - mae: 2.3607 - accuracy: 0.1187\n",
      "Epoch 183/200\n",
      "800/800 [==============================] - 0s 32us/sample - loss: 7.7319 - mae: 2.3468 - accuracy: 0.1187\n",
      "Epoch 184/200\n",
      "800/800 [==============================] - 0s 35us/sample - loss: 7.7018 - mae: 2.3366 - accuracy: 0.1187\n",
      "Epoch 185/200\n",
      "800/800 [==============================] - 0s 29us/sample - loss: 7.5971 - mae: 2.3270 - accuracy: 0.1187\n",
      "Epoch 186/200\n",
      "800/800 [==============================] - 0s 32us/sample - loss: 7.9337 - mae: 2.3679 - accuracy: 0.1187\n",
      "Epoch 187/200\n",
      "800/800 [==============================] - 0s 33us/sample - loss: 7.5671 - mae: 2.3231 - accuracy: 0.1187\n",
      "Epoch 188/200\n",
      "800/800 [==============================] - 0s 32us/sample - loss: 7.5759 - mae: 2.3088 - accuracy: 0.1187\n",
      "Epoch 189/200\n",
      "800/800 [==============================] - 0s 30us/sample - loss: 7.6506 - mae: 2.3317 - accuracy: 0.1187\n",
      "Epoch 190/200\n",
      "800/800 [==============================] - 0s 31us/sample - loss: 7.8313 - mae: 2.3556 - accuracy: 0.1187\n",
      "Epoch 191/200\n",
      "800/800 [==============================] - 0s 35us/sample - loss: 7.9314 - mae: 2.3722 - accuracy: 0.1187\n",
      "Epoch 192/200\n",
      "800/800 [==============================] - 0s 33us/sample - loss: 8.2479 - mae: 2.4106 - accuracy: 0.1187\n",
      "Epoch 193/200\n",
      "800/800 [==============================] - 0s 30us/sample - loss: 7.6742 - mae: 2.3241 - accuracy: 0.1187\n",
      "Epoch 194/200\n",
      "800/800 [==============================] - 0s 31us/sample - loss: 8.1040 - mae: 2.3888 - accuracy: 0.1187\n",
      "Epoch 195/200\n",
      "800/800 [==============================] - 0s 36us/sample - loss: 7.8873 - mae: 2.3529 - accuracy: 0.1187\n",
      "Epoch 196/200\n",
      "800/800 [==============================] - 0s 34us/sample - loss: 7.8543 - mae: 2.3286 - accuracy: 0.1187\n",
      "Epoch 197/200\n",
      "800/800 [==============================] - 0s 37us/sample - loss: 8.0387 - mae: 2.3766 - accuracy: 0.1187\n",
      "Epoch 198/200\n",
      "800/800 [==============================] - 0s 36us/sample - loss: 7.7621 - mae: 2.3399 - accuracy: 0.1187\n",
      "Epoch 199/200\n",
      "800/800 [==============================] - 0s 33us/sample - loss: 7.7043 - mae: 2.3414 - accuracy: 0.1187\n",
      "Epoch 200/200\n",
      "800/800 [==============================] - 0s 32us/sample - loss: 7.7846 - mae: 2.3583 - accuracy: 0.1187\n"
     ]
    },
    {
     "data": {
      "text/plain": [
       "<tensorflow.python.keras.callbacks.History at 0x7fefa846be50>"
      ]
     },
     "execution_count": 24,
     "metadata": {},
     "output_type": "execute_result"
    }
   ],
   "source": [
    "model.fit(X_train, y_train, epochs=200, batch_size=32)"
   ]
  },
  {
   "cell_type": "code",
   "execution_count": 25,
   "metadata": {},
   "outputs": [],
   "source": [
    "model.model.save('../model/model.h5')"
   ]
  },
  {
   "cell_type": "code",
   "execution_count": 26,
   "metadata": {},
   "outputs": [],
   "source": [
    "y_pred = model.predict(X_test)"
   ]
  },
  {
   "cell_type": "code",
   "execution_count": 27,
   "metadata": {},
   "outputs": [
    {
     "data": {
      "text/plain": [
       "array([4.0833106, 4.1831284, 6.00656  , 6.2579474, 6.1569376, 4.6610227,\n",
       "       4.3189373, 4.5808797, 5.344122 , 4.8490334, 4.6673584, 5.021037 ,\n",
       "       4.533467 , 4.5910983, 4.467305 , 6.0625644, 5.576391 , 6.1516747,\n",
       "       5.549759 , 4.0485044, 5.2263165, 6.0499234, 5.1254926, 4.7027144,\n",
       "       3.9947107, 5.4106145, 4.928415 , 5.1510444, 5.007404 , 5.9615192,\n",
       "       5.3708277, 3.3225284, 6.2500324, 6.6212816, 5.513595 , 4.4624233,\n",
       "       4.0293403, 5.1728253, 5.435148 , 5.1626844, 5.356745 , 5.2473226,\n",
       "       5.4668703, 5.720015 , 5.501935 , 4.0818725, 4.5242014, 6.3810735,\n",
       "       4.870362 , 4.5023255, 5.9176035, 4.605389 , 5.2110825, 5.11422  ,\n",
       "       5.921939 , 3.395768 , 6.3393307, 5.7661943, 5.368081 , 6.9974904,\n",
       "       5.6237464, 4.3160377, 5.576007 , 5.3471026, 4.8997307, 3.6192603,\n",
       "       5.0979266, 3.9658833, 5.2110734, 5.0324297, 6.221712 , 4.2598643,\n",
       "       5.5666685, 4.80569  , 4.5438013, 4.860878 , 5.651246 , 5.050837 ,\n",
       "       4.2479086, 5.0876207, 4.6445274, 6.3419843, 5.61205  , 4.5286036,\n",
       "       6.630933 , 5.21991  , 6.4565945, 6.5661983, 5.94043  , 5.736587 ,\n",
       "       6.0930576, 4.2573195, 5.3229   , 5.815136 , 5.9566283, 6.5645943,\n",
       "       5.1556263, 5.915067 , 5.5753675, 5.507303 , 5.3155355, 4.2061224,\n",
       "       4.283256 , 5.946257 , 5.2518873, 6.151564 , 3.4621525, 4.6862507,\n",
       "       5.8235445, 5.9786615, 3.5111516, 4.727942 , 5.925499 , 5.558023 ,\n",
       "       5.8788233, 3.83144  , 4.743841 , 5.1459584, 5.5073714, 5.862566 ,\n",
       "       4.1965127, 5.076485 , 6.416872 , 4.667992 , 5.1168785, 3.859162 ,\n",
       "       5.1686544, 5.356458 , 6.232687 , 5.0049515, 4.871204 , 5.5093994,\n",
       "       5.4224687, 4.505741 , 4.774426 , 6.859063 , 6.3382874, 4.2479944,\n",
       "       3.344864 , 4.846835 , 6.3966193, 4.5577126, 5.8696527, 6.208501 ,\n",
       "       3.883852 , 4.907918 , 5.430411 , 5.495629 , 4.91932  , 4.165346 ,\n",
       "       4.598176 , 3.3844242, 7.1521893, 6.5907063, 3.7399025, 5.799563 ,\n",
       "       4.805688 , 4.6708255, 6.3055396, 6.6173625, 6.3382864, 5.213142 ,\n",
       "       3.5129666, 6.7565002, 4.2623   , 4.8457627, 3.7135408, 5.605447 ,\n",
       "       4.5126243, 5.783    , 5.246902 , 5.4533257, 5.3165574, 6.521291 ,\n",
       "       5.0850043, 4.877406 , 4.1255455, 6.040707 , 4.603328 , 6.902045 ,\n",
       "       4.159849 , 2.9960992, 5.1603117, 5.355304 , 5.6564407, 3.6833994,\n",
       "       5.487826 , 4.718581 , 5.270913 , 5.040586 , 5.0270767, 7.676445 ,\n",
       "       6.577333 , 5.363852 , 6.373149 , 5.7445197, 6.230629 , 5.298652 ,\n",
       "       4.730785 , 5.3054185], dtype=float32)"
      ]
     },
     "execution_count": 27,
     "metadata": {},
     "output_type": "execute_result"
    }
   ],
   "source": [
    "y_pred"
   ]
  },
  {
   "cell_type": "code",
   "execution_count": 28,
   "metadata": {},
   "outputs": [
    {
     "data": {
      "text/plain": [
       "array([[ 3,  5,  2, ...,  2, 12, 23],\n",
       "       [ 1,  9,  3, ...,  4, 22,  3],\n",
       "       [ 3,  5,  1, ...,  7, 21,  4],\n",
       "       ...,\n",
       "       [ 2,  9,  1, ...,  9, 32, 11],\n",
       "       [ 2,  1,  4, ...,  9, 38, 26],\n",
       "       [ 3,  1,  0, ...,  8,  9, 25]])"
      ]
     },
     "execution_count": 28,
     "metadata": {},
     "output_type": "execute_result"
    }
   ],
   "source": [
    "X_test"
   ]
  },
  {
   "cell_type": "code",
   "execution_count": 29,
   "metadata": {},
   "outputs": [
    {
     "data": {
      "text/plain": [
       "array(5.3155446, dtype=float32)"
      ]
     },
     "execution_count": 29,
     "metadata": {},
     "output_type": "execute_result"
    }
   ],
   "source": [
    "model.predict(X_test[100].reshape(-1, 12))"
   ]
  },
  {
   "cell_type": "code",
   "execution_count": null,
   "metadata": {},
   "outputs": [],
   "source": []
  }
 ],
 "metadata": {
  "kernelspec": {
   "display_name": "Python 3",
   "language": "python",
   "name": "python3"
  },
  "language_info": {
   "codemirror_mode": {
    "name": "ipython",
    "version": 3
   },
   "file_extension": ".py",
   "mimetype": "text/x-python",
   "name": "python",
   "nbconvert_exporter": "python",
   "pygments_lexer": "ipython3",
   "version": "3.7.5"
  }
 },
 "nbformat": 4,
 "nbformat_minor": 4
}
